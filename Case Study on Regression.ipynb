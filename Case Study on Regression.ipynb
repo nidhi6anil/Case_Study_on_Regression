{
 "cells": [
  {
   "cell_type": "code",
   "execution_count": 19,
   "id": "0a049ca3",
   "metadata": {},
   "outputs": [],
   "source": [
    "import numpy as np\n",
    "import pandas as pd\n",
    "import seaborn as sns\n",
    "import matplotlib.pyplot as plt\n",
    "from sklearn.model_selection import train_test_split\n",
    "from sklearn.linear_model import LinearRegression"
   ]
  },
  {
   "cell_type": "markdown",
   "id": "05353be9",
   "metadata": {},
   "source": [
    "# 1.  Loading the dataset and get the basic details"
   ]
  },
  {
   "cell_type": "code",
   "execution_count": 2,
   "id": "8e2379e9",
   "metadata": {},
   "outputs": [],
   "source": [
    "data = pd.read_csv('/Users/nidhi.anil/Downloads/car_age_price.csv')"
   ]
  },
  {
   "cell_type": "code",
   "execution_count": 3,
   "id": "6a44ad7f",
   "metadata": {},
   "outputs": [
    {
     "data": {
      "text/html": [
       "<div>\n",
       "<style scoped>\n",
       "    .dataframe tbody tr th:only-of-type {\n",
       "        vertical-align: middle;\n",
       "    }\n",
       "\n",
       "    .dataframe tbody tr th {\n",
       "        vertical-align: top;\n",
       "    }\n",
       "\n",
       "    .dataframe thead th {\n",
       "        text-align: right;\n",
       "    }\n",
       "</style>\n",
       "<table border=\"1\" class=\"dataframe\">\n",
       "  <thead>\n",
       "    <tr style=\"text-align: right;\">\n",
       "      <th></th>\n",
       "      <th>Year</th>\n",
       "      <th>Price</th>\n",
       "    </tr>\n",
       "  </thead>\n",
       "  <tbody>\n",
       "    <tr>\n",
       "      <th>0</th>\n",
       "      <td>2018</td>\n",
       "      <td>465000</td>\n",
       "    </tr>\n",
       "    <tr>\n",
       "      <th>1</th>\n",
       "      <td>2019</td>\n",
       "      <td>755000</td>\n",
       "    </tr>\n",
       "    <tr>\n",
       "      <th>2</th>\n",
       "      <td>2019</td>\n",
       "      <td>700000</td>\n",
       "    </tr>\n",
       "    <tr>\n",
       "      <th>3</th>\n",
       "      <td>2018</td>\n",
       "      <td>465000</td>\n",
       "    </tr>\n",
       "    <tr>\n",
       "      <th>4</th>\n",
       "      <td>2018</td>\n",
       "      <td>465000</td>\n",
       "    </tr>\n",
       "  </tbody>\n",
       "</table>\n",
       "</div>"
      ],
      "text/plain": [
       "   Year   Price\n",
       "0  2018  465000\n",
       "1  2019  755000\n",
       "2  2019  700000\n",
       "3  2018  465000\n",
       "4  2018  465000"
      ]
     },
     "execution_count": 3,
     "metadata": {},
     "output_type": "execute_result"
    }
   ],
   "source": [
    "data.head()"
   ]
  },
  {
   "cell_type": "code",
   "execution_count": 4,
   "id": "3fd8578a",
   "metadata": {},
   "outputs": [
    {
     "data": {
      "text/plain": [
       "(112, 2)"
      ]
     },
     "execution_count": 4,
     "metadata": {},
     "output_type": "execute_result"
    }
   ],
   "source": [
    "data.shape"
   ]
  },
  {
   "cell_type": "code",
   "execution_count": 7,
   "id": "3d82fe55",
   "metadata": {},
   "outputs": [
    {
     "name": "stdout",
     "output_type": "stream",
     "text": [
      "<class 'pandas.core.frame.DataFrame'>\n",
      "RangeIndex: 112 entries, 0 to 111\n",
      "Data columns (total 2 columns):\n",
      " #   Column  Non-Null Count  Dtype\n",
      "---  ------  --------------  -----\n",
      " 0   Year    112 non-null    int64\n",
      " 1   Price   112 non-null    int64\n",
      "dtypes: int64(2)\n",
      "memory usage: 1.9 KB\n"
     ]
    }
   ],
   "source": [
    "data.info()"
   ]
  },
  {
   "cell_type": "code",
   "execution_count": 8,
   "id": "e72fc84c",
   "metadata": {},
   "outputs": [
    {
     "data": {
      "text/html": [
       "<div>\n",
       "<style scoped>\n",
       "    .dataframe tbody tr th:only-of-type {\n",
       "        vertical-align: middle;\n",
       "    }\n",
       "\n",
       "    .dataframe tbody tr th {\n",
       "        vertical-align: top;\n",
       "    }\n",
       "\n",
       "    .dataframe thead th {\n",
       "        text-align: right;\n",
       "    }\n",
       "</style>\n",
       "<table border=\"1\" class=\"dataframe\">\n",
       "  <thead>\n",
       "    <tr style=\"text-align: right;\">\n",
       "      <th></th>\n",
       "      <th>Year</th>\n",
       "      <th>Price</th>\n",
       "    </tr>\n",
       "  </thead>\n",
       "  <tbody>\n",
       "    <tr>\n",
       "      <th>count</th>\n",
       "      <td>112.000000</td>\n",
       "      <td>112.000000</td>\n",
       "    </tr>\n",
       "    <tr>\n",
       "      <th>mean</th>\n",
       "      <td>2016.669643</td>\n",
       "      <td>483866.044643</td>\n",
       "    </tr>\n",
       "    <tr>\n",
       "      <th>std</th>\n",
       "      <td>1.629616</td>\n",
       "      <td>91217.450533</td>\n",
       "    </tr>\n",
       "    <tr>\n",
       "      <th>min</th>\n",
       "      <td>2013.000000</td>\n",
       "      <td>300000.000000</td>\n",
       "    </tr>\n",
       "    <tr>\n",
       "      <th>25%</th>\n",
       "      <td>2015.000000</td>\n",
       "      <td>423750.000000</td>\n",
       "    </tr>\n",
       "    <tr>\n",
       "      <th>50%</th>\n",
       "      <td>2017.000000</td>\n",
       "      <td>500000.000000</td>\n",
       "    </tr>\n",
       "    <tr>\n",
       "      <th>75%</th>\n",
       "      <td>2017.000000</td>\n",
       "      <td>550000.000000</td>\n",
       "    </tr>\n",
       "    <tr>\n",
       "      <th>max</th>\n",
       "      <td>2020.000000</td>\n",
       "      <td>755000.000000</td>\n",
       "    </tr>\n",
       "  </tbody>\n",
       "</table>\n",
       "</div>"
      ],
      "text/plain": [
       "              Year          Price\n",
       "count   112.000000     112.000000\n",
       "mean   2016.669643  483866.044643\n",
       "std       1.629616   91217.450533\n",
       "min    2013.000000  300000.000000\n",
       "25%    2015.000000  423750.000000\n",
       "50%    2017.000000  500000.000000\n",
       "75%    2017.000000  550000.000000\n",
       "max    2020.000000  755000.000000"
      ]
     },
     "execution_count": 8,
     "metadata": {},
     "output_type": "execute_result"
    }
   ],
   "source": [
    "data.describe()"
   ]
  },
  {
   "cell_type": "markdown",
   "id": "44fc2c3f",
   "metadata": {},
   "source": [
    "# 2. Data Cleaning"
   ]
  },
  {
   "cell_type": "markdown",
   "id": "ae2e0ef6",
   "metadata": {},
   "source": [
    "# Handling missing values in the dataset"
   ]
  },
  {
   "cell_type": "code",
   "execution_count": 9,
   "id": "bf28729e",
   "metadata": {},
   "outputs": [
    {
     "data": {
      "text/plain": [
       "Year     0\n",
       "Price    0\n",
       "dtype: int64"
      ]
     },
     "execution_count": 9,
     "metadata": {},
     "output_type": "execute_result"
    }
   ],
   "source": [
    "data.isna().sum()"
   ]
  },
  {
   "cell_type": "markdown",
   "id": "03b4f00f",
   "metadata": {},
   "source": [
    "# Detecting Outliers"
   ]
  },
  {
   "cell_type": "code",
   "execution_count": 10,
   "id": "b39d5aa4",
   "metadata": {},
   "outputs": [
    {
     "data": {
      "image/png": "[encoded data removed]",
      "text/plain": [
       "<Figure size 640x480 with 1 Axes>"
      ]
     },
     "metadata": {},
     "output_type": "display_data"
    },
    {
     "data": {
      "image/png": "[encoded data removed]",
      "text/plain": [
       "<Figure size 640x480 with 1 Axes>"
      ]
     },
     "metadata": {},
     "output_type": "display_data"
    }
   ],
   "source": [
    "col = ['Year','Price']\n",
    "for i in col:\n",
    "    plt.figure()\n",
    "    plt.boxplot(data[i])\n",
    "    plt.title(i)"
   ]
  },
  {
   "cell_type": "markdown",
   "id": "4b1c74f3",
   "metadata": {},
   "source": [
    "# 3. Visualisation of Data"
   ]
  },
  {
   "cell_type": "code",
   "execution_count": 11,
   "id": "ec4a7493",
   "metadata": {},
   "outputs": [
    {
     "data": {
      "image/png": "[encoded data removed]",
      "text/plain": [
       "<Figure size 640x480 with 1 Axes>"
      ]
     },
     "metadata": {},
     "output_type": "display_data"
    }
   ],
   "source": [
    "plt.bar(data['Year'],data['Price'])\n",
    "plt.title('Distribution of price over the years')\n",
    "plt.show()"
   ]
  },
  {
   "cell_type": "markdown",
   "id": "5f9c06f4",
   "metadata": {},
   "source": [
    "# 4. Creating the Model"
   ]
  },
  {
   "cell_type": "code",
   "execution_count": 12,
   "id": "1f53cd29",
   "metadata": {},
   "outputs": [
    {
     "data": {
      "text/plain": [
       "<Axes: >"
      ]
     },
     "execution_count": 12,
     "metadata": {},
     "output_type": "execute_result"
    },
    {
     "data": {
      "image/png": "[encoded data removed]",
      "text/plain": [
       "<Figure size 640x480 with 2 Axes>"
      ]
     },
     "metadata": {},
     "output_type": "display_data"
    }
   ],
   "source": [
    "corr_matrix = data.corr()\n",
    "sns.heatmap(corr_matrix,annot=True)"
   ]
  },
  {
   "cell_type": "markdown",
   "id": "f5fe43d5",
   "metadata": {},
   "source": [
    "# Creating Linear Regression Model"
   ]
  },
  {
   "cell_type": "code",
   "execution_count": 15,
   "id": "e594c301",
   "metadata": {},
   "outputs": [],
   "source": [
    "x = data.drop(['Price'],axis=1) #Independant variable\n",
    "y = data['Price'] #Dependant variable"
   ]
  },
  {
   "cell_type": "markdown",
   "id": "1c3a2b3a",
   "metadata": {},
   "source": [
    "# Splitting the data for training and testing "
   ]
  },
  {
   "cell_type": "code",
   "execution_count": 16,
   "id": "010e1a3a",
   "metadata": {},
   "outputs": [],
   "source": [
    "x_train,x_test,y_train,y_test = train_test_split(x,y,test_size=0.25,random_state=42)"
   ]
  },
  {
   "cell_type": "code",
   "execution_count": 17,
   "id": "920c0c36",
   "metadata": {},
   "outputs": [
    {
     "data": {
      "text/plain": [
       "(     Year\n",
       " 81   2014\n",
       " 77   2015\n",
       " 15   2017\n",
       " 30   2019\n",
       " 45   2018\n",
       " ..    ...\n",
       " 106  2015\n",
       " 14   2017\n",
       " 92   2017\n",
       " 51   2018\n",
       " 102  2015\n",
       " \n",
       " [84 rows x 1 columns],\n",
       "      Year\n",
       " 40   2019\n",
       " 65   2017\n",
       " 4    2018\n",
       " 47   2018\n",
       " 42   2018\n",
       " 69   2015\n",
       " 26   2017\n",
       " 11   2018\n",
       " 10   2019\n",
       " 44   2019\n",
       " 73   2013\n",
       " 55   2017\n",
       " 68   2015\n",
       " 97   2020\n",
       " 0    2018\n",
       " 18   2019\n",
       " 53   2013\n",
       " 80   2015\n",
       " 103  2017\n",
       " 91   2017\n",
       " 36   2017\n",
       " 12   2017\n",
       " 31   2017\n",
       " 66   2017\n",
       " 90   2017\n",
       " 62   2017\n",
       " 22   2015\n",
       " 85   2015)"
      ]
     },
     "execution_count": 17,
     "metadata": {},
     "output_type": "execute_result"
    }
   ],
   "source": [
    "x_train,x_test"
   ]
  },
  {
   "cell_type": "code",
   "execution_count": 18,
   "id": "1c733965",
   "metadata": {},
   "outputs": [
    {
     "data": {
      "text/plain": [
       "(81     390000\n",
       " 77     325000\n",
       " 15     500000\n",
       " 30     650000\n",
       " 45     450000\n",
       "         ...  \n",
       " 106    300000\n",
       " 14     475000\n",
       " 92     520000\n",
       " 51     550000\n",
       " 102    350000\n",
       " Name: Price, Length: 84, dtype: int64,\n",
       " 40     525000\n",
       " 65     495000\n",
       " 4      465000\n",
       " 47     450000\n",
       " 42     550000\n",
       " 69     300000\n",
       " 26     550000\n",
       " 11     500000\n",
       " 10     500000\n",
       " 44     550000\n",
       " 73     320000\n",
       " 55     550000\n",
       " 68     465000\n",
       " 97     640000\n",
       " 0      465000\n",
       " 18     500000\n",
       " 53     345000\n",
       " 80     390000\n",
       " 103    375000\n",
       " 91     520000\n",
       " 36     550000\n",
       " 12     500000\n",
       " 31     550000\n",
       " 66     525000\n",
       " 90     520000\n",
       " 62     540000\n",
       " 22     434999\n",
       " 85     320000\n",
       " Name: Price, dtype: int64)"
      ]
     },
     "execution_count": 18,
     "metadata": {},
     "output_type": "execute_result"
    }
   ],
   "source": [
    "y_train,y_test"
   ]
  },
  {
   "cell_type": "code",
   "execution_count": 20,
   "id": "cc4cc25a",
   "metadata": {},
   "outputs": [],
   "source": [
    "LR = LinearRegression()    "
   ]
  },
  {
   "cell_type": "code",
   "execution_count": 21,
   "id": "ff8f26e2",
   "metadata": {},
   "outputs": [],
   "source": [
    "linear_model = LR.fit(x_train,y_train)"
   ]
  },
  {
   "cell_type": "code",
   "execution_count": 22,
   "id": "e354d9e0",
   "metadata": {},
   "outputs": [],
   "source": [
    "y_pred = linear_model.predict(x_test)   #predicting the car price using x_test values"
   ]
  },
  {
   "cell_type": "code",
   "execution_count": 23,
   "id": "f74dee8c",
   "metadata": {},
   "outputs": [
    {
     "data": {
      "text/plain": [
       "(array([599223.07304104, 505265.04214995, 552244.05759549, 552244.05759549,\n",
       "        552244.05759549, 411307.01125886, 505265.04214995, 552244.05759549,\n",
       "        599223.07304104, 599223.07304104, 317348.98036776, 505265.04214995,\n",
       "        411307.01125886, 646202.08848657, 552244.05759549, 599223.07304104,\n",
       "        317348.98036776, 411307.01125886, 505265.04214995, 505265.04214995,\n",
       "        505265.04214995, 505265.04214995, 505265.04214995, 505265.04214995,\n",
       "        505265.04214995, 505265.04214995, 411307.01125886, 411307.01125886]),\n",
       " 40     525000\n",
       " 65     495000\n",
       " 4      465000\n",
       " 47     450000\n",
       " 42     550000\n",
       " 69     300000\n",
       " 26     550000\n",
       " 11     500000\n",
       " 10     500000\n",
       " 44     550000\n",
       " 73     320000\n",
       " 55     550000\n",
       " 68     465000\n",
       " 97     640000\n",
       " 0      465000\n",
       " 18     500000\n",
       " 53     345000\n",
       " 80     390000\n",
       " 103    375000\n",
       " 91     520000\n",
       " 36     550000\n",
       " 12     500000\n",
       " 31     550000\n",
       " 66     525000\n",
       " 90     520000\n",
       " 62     540000\n",
       " 22     434999\n",
       " 85     320000\n",
       " Name: Price, dtype: int64)"
      ]
     },
     "execution_count": 23,
     "metadata": {},
     "output_type": "execute_result"
    }
   ],
   "source": [
    "y_pred,y_test"
   ]
  },
  {
   "cell_type": "markdown",
   "id": "fbbe2e90",
   "metadata": {},
   "source": [
    "# Calculating model efficiency"
   ]
  },
  {
   "cell_type": "code",
   "execution_count": 27,
   "id": "926d9a32",
   "metadata": {},
   "outputs": [],
   "source": [
    "from sklearn.metrics import mean_squared_error,r2_score\n"
   ]
  },
  {
   "cell_type": "code",
   "execution_count": 28,
   "id": "1d47fd95",
   "metadata": {},
   "outputs": [],
   "source": [
    "linear_MSE = mean_squared_error(y_test,y_pred)\n",
    "linear_R2 = r2_score(y_test,y_pred)"
   ]
  },
  {
   "cell_type": "code",
   "execution_count": 29,
   "id": "28f39c6f",
   "metadata": {},
   "outputs": [
    {
     "name": "stdout",
     "output_type": "stream",
     "text": [
      "3878767151.073449\n",
      "0.4347961632108023\n"
     ]
    }
   ],
   "source": [
    "print(linear_MSE)\n",
    "print(linear_R2)"
   ]
  },
  {
   "cell_type": "code",
   "execution_count": 30,
   "id": "a005db65",
   "metadata": {},
   "outputs": [],
   "source": [
    "# import lasso regression from sklearn library\n",
    "from sklearn.linear_model import Lasso"
   ]
  },
  {
   "cell_type": "code",
   "execution_count": 31,
   "id": "22bd7871",
   "metadata": {},
   "outputs": [],
   "source": [
    "# Training the model\n",
    "lasso = Lasso(alpha = 0.01)\n",
    "lasso_model = lasso.fit(x_train,y_train)\n",
    "y_pred1 = lasso_model.predict(x_test)"
   ]
  },
  {
   "cell_type": "code",
   "execution_count": 32,
   "id": "5af99d7c",
   "metadata": {},
   "outputs": [
    {
     "data": {
      "text/plain": [
       "(array([599223.0633935 , 505265.04048657, 552244.05194004, 552244.05194004,\n",
       "        552244.05194004, 411307.01757963, 505265.04048657, 552244.05194004,\n",
       "        599223.0633935 , 599223.0633935 , 317348.9946727 , 505265.04048657,\n",
       "        411307.01757963, 646202.07484697, 552244.05194004, 599223.0633935 ,\n",
       "        317348.9946727 , 411307.01757963, 505265.04048657, 505265.04048657,\n",
       "        505265.04048657, 505265.04048657, 505265.04048657, 505265.04048657,\n",
       "        505265.04048657, 505265.04048657, 411307.01757963, 411307.01757963]),\n",
       " 40     525000\n",
       " 65     495000\n",
       " 4      465000\n",
       " 47     450000\n",
       " 42     550000\n",
       " 69     300000\n",
       " 26     550000\n",
       " 11     500000\n",
       " 10     500000\n",
       " 44     550000\n",
       " 73     320000\n",
       " 55     550000\n",
       " 68     465000\n",
       " 97     640000\n",
       " 0      465000\n",
       " 18     500000\n",
       " 53     345000\n",
       " 80     390000\n",
       " 103    375000\n",
       " 91     520000\n",
       " 36     550000\n",
       " 12     500000\n",
       " 31     550000\n",
       " 66     525000\n",
       " 90     520000\n",
       " 62     540000\n",
       " 22     434999\n",
       " 85     320000\n",
       " Name: Price, dtype: int64)"
      ]
     },
     "execution_count": 32,
     "metadata": {},
     "output_type": "execute_result"
    }
   ],
   "source": [
    "y_pred1,y_test"
   ]
  },
  {
   "cell_type": "code",
   "execution_count": 33,
   "id": "2b5291ac",
   "metadata": {},
   "outputs": [],
   "source": [
    "\n",
    "lasso_MSE = mean_squared_error(y_test,y_pred1)\n",
    "lasso_R2 = r2_score(y_test,y_pred1)"
   ]
  },
  {
   "cell_type": "code",
   "execution_count": 34,
   "id": "0e1f0ce9",
   "metadata": {},
   "outputs": [
    {
     "name": "stdout",
     "output_type": "stream",
     "text": [
      "3878766838.5196795\n",
      "0.43479620875532277\n"
     ]
    }
   ],
   "source": [
    "print(lasso_MSE)\n",
    "print(lasso_R2)"
   ]
  },
  {
   "cell_type": "markdown",
   "id": "8dd12055",
   "metadata": {},
   "source": [
    "# Selection of best model"
   ]
  },
  {
   "cell_type": "code",
   "execution_count": 36,
   "id": "b6ca3c6b",
   "metadata": {},
   "outputs": [
    {
     "name": "stdout",
     "output_type": "stream",
     "text": [
      "Best model : Lasso Regression Model\n"
     ]
    }
   ],
   "source": [
    "if linear_MSE<lasso_MSE and linear_R2>lasso_R2:\n",
    "    selected_model=linear_model\n",
    "    print('Best model : Linear Regression Model')\n",
    "elif lasso_MSE<linear_MSE and lasso_R2>linear_R2:\n",
    "    selected_model=lasso_model\n",
    "    print('Best model : Lasso Regression Model')\n",
    "else:\n",
    "    print('Both models have similar performance')"
   ]
  },
  {
   "cell_type": "markdown",
   "id": "83a1db73",
   "metadata": {},
   "source": [
    "# Predict the possible price of a 2022 model second-hand grand i10 using Lasso Regression Model"
   ]
  },
  {
   "cell_type": "code",
   "execution_count": 37,
   "id": "d2313e29",
   "metadata": {},
   "outputs": [
    {
     "name": "stderr",
     "output_type": "stream",
     "text": [
      "/Users/nidhi.anil/anaconda3/lib/python3.10/site-packages/sklearn/base.py:420: UserWarning: X does not have valid feature names, but Lasso was fitted with feature names\n",
      "  warnings.warn(\n"
     ]
    }
   ],
   "source": [
    "price = lasso_model.predict([[2022]])"
   ]
  },
  {
   "cell_type": "code",
   "execution_count": 39,
   "id": "06f623e3",
   "metadata": {},
   "outputs": [
    {
     "name": "stdout",
     "output_type": "stream",
     "text": [
      "The possible price of a 2022 model second-hand grand i10 car is [740160.0977539]\n"
     ]
    }
   ],
   "source": [
    "print('The possible price of a 2022 model second-hand grand i10 car is',price)"
   ]
  },
  {
   "cell_type": "code",
   "execution_count": null,
   "id": "a5f0af64",
   "metadata": {},
   "outputs": [],
   "source": []
  }
 ],
 "metadata": {
  "kernelspec": {
   "display_name": "Python 3 (ipykernel)",
   "language": "python",
   "name": "python3"
  },
  "language_info": {
   "codemirror_mode": {
    "name": "ipython",
    "version": 3
   },
   "file_extension": ".py",
   "mimetype": "text/x-python",
   "name": "python",
   "nbconvert_exporter": "python",
   "pygments_lexer": "ipython3",
   "version": "3.10.9"
  }
 },
 "nbformat": 4,
 "nbformat_minor": 5
}
